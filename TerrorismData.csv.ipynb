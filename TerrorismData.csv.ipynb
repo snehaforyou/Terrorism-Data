{
 "cells": [
  {
   "cell_type": "markdown",
   "id": "72acbf65-0b86-40d8-a5be-140b83e142ad",
   "metadata": {},
   "source": [
    "## TerrorismData.csv\n",
    "\n",
    "Given file \"terrorismData.csv\" It is an open-source database including information on terrorist attacks around the world from 1970 through 2017. This dataset includes systematic data on domestic as well as international terrorist incidents that have occurred during this time period"
   ]
  },
  {
   "cell_type": "markdown",
   "id": "8db4fa8f-6154-47d8-86d5-0a775323f2d8",
   "metadata": {},
   "source": [
    "1. Killed in USA :\n",
    " \n",
    "Find value of killed column only where country == ‘United States’? Print 0 in place of missing values. Print count of Killed as integer value."
   ]
  },
  {
   "cell_type": "code",
   "execution_count": null,
   "id": "13c9f32e-06e3-4183-91e5-3c9b8875176f",
   "metadata": {},
   "outputs": [],
   "source": [
    "import numpy as np \n",
    "import csv \n",
    "\n",
    "with open(\"terrorismData.csv\" , 'r') as file:\n",
    "    file_data = csv.DictReader(file , skipinitialspace = True)\n",
    "    killed = []\n",
    "    country = []\n",
    "    for row in file_data:\n",
    "        killed.append(row['Killed'])\n",
    "        country.append(row['Country'])\n",
    "\n",
    "    np_killed = np.array(killed)\n",
    "    np_country = np.array(country)\n",
    "\n",
    "    np_killed[np_killed == ''] = '0.0'\n",
    "    np_killed= np.array(np_killed,dtype =float)\n",
    "    \n",
    "    us_killed = np.where(np_country == 'United States')\n",
    "    ans = np_killed[us_killed]\n",
    "\n",
    "    for i in ans:\n",
    "        print(int(i))"
   ]
  },
  {
   "cell_type": "markdown",
   "id": "4c9fcf7c-ff7b-4501-8a70-425aacbbe064",
   "metadata": {},
   "source": [
    "2. Total killed in USA:\n",
    "   \n",
    "Find total number of people killed from USA? Note: Some columns of killed are empty so replace them by 0. Print count of Killed as integer value."
   ]
  },
  {
   "cell_type": "code",
   "execution_count": null,
   "id": "a09670e9-30f2-4bad-b6eb-a01ce839ea07",
   "metadata": {},
   "outputs": [],
   "source": [
    "import numpy as np \n",
    "import csv \n",
    "\n",
    "with open(\"terrorismData.csv\" , 'r') as file:\n",
    "    file_data = csv.DictReader(file , skipinitialspace = True)\n",
    "    killed = []\n",
    "    country = []\n",
    "    for row in file_data:\n",
    "        killed.append(row['Killed'])\n",
    "        country.append(row['Country'])\n",
    "\n",
    "    np_killed = np.array(killed)\n",
    "    np_country = np.array(country)\n",
    "\n",
    "    np_killed[np_killed == ''] = '0.0'\n",
    "    np_killed = np.array(np_killed , dtype= float)\n",
    "    us_killed = np.where(np_country == 'United States')\n",
    "    \n",
    "    totalkilled = np.sum(np_killed[us_killed])\n",
    "\n",
    "    print(int(totalkilled))"
   ]
  },
  {
   "cell_type": "markdown",
   "id": "34d3506a-f9eb-4bb2-92e0-e455f743ec1a",
   "metadata": {},
   "source": [
    "3. Terrorism Day:\n",
    " \n",
    "Find the number of attack held between day 10 and day 20?(ignoring the year and month)(including both day) Print count of NumberOFAttack as integer value."
   ]
  },
  {
   "cell_type": "code",
   "execution_count": null,
   "id": "fa08a5b6-1f8d-4a8c-9f3f-c9b9e54bdf22",
   "metadata": {},
   "outputs": [],
   "source": [
    "import numpy as np \n",
    "import csv \n",
    "with open( \"terrorismData.csv\" , 'r') as file:\n",
    "    file_data = csv.DictReader(file , skipinitialspace = True)\n",
    "    count = 0\n",
    "    for row in file_data:\n",
    "        day = int(row['Day'])\n",
    "\n",
    "        if 10<= day <= 20:\n",
    "            count += 1\n",
    "\n",
    "    print(int(count))\n",
    "    "
   ]
  },
  {
   "cell_type": "markdown",
   "id": "442b04f4-887b-483e-82b8-2570a69868db",
   "metadata": {},
   "source": [
    "4. Terrorism Date:\n",
    " \n",
    "Find the number of attack held between 1 Jan 2010 and 31 Jan 2010?(including both date). Note Ignore the case where day is 0 Print count of NumberOFAttack as integer value."
   ]
  },
  {
   "cell_type": "code",
   "execution_count": null,
   "id": "88ada508-c326-4f0f-ba27-01aa58a00d06",
   "metadata": {},
   "outputs": [],
   "source": [
    "import numpy as np\n",
    "import csv \n",
    "\n",
    "with open(\"terrorismData.csv\" , 'r') as file:\n",
    "    file_data = csv.DictReader(file , skipinitialspace = True)\n",
    "    count = 0 \n",
    "    for row in file_data:\n",
    "        day = int(row['Day'])\n",
    "        month = int(row['Month'])\n",
    "        year = int(row['Year'])\n",
    "\n",
    "        if year == 2010 and month == 1 and 1 <= day <= 31:\n",
    "            count += 1 \n",
    "\n",
    "    print(int(count)) "
   ]
  },
  {
   "cell_type": "markdown",
   "id": "a9a41464-6b5d-4ba4-9f81-66327eae0b40",
   "metadata": {},
   "source": [
    "5. Terror Casualty Attack:\n",
    " \n",
    "As we knew the Kargil ( in Jammu and Kashmir) War that took place between May 1999 and July 1999 (3 Months) ,so there was a huge conflict in Kashmir Valley during this period. In this dataset, there is no information regarding the war between the two countries to find out the casualty during the war. So find out the attack in this period in which maximum casualties happened. Print the count of casualties (as integer), city in which that attack happened and name of attack group. Note : Casualty = Killed + Wounded.Fill the empty value in killed or wounded feature to 0."
   ]
  },
  {
   "cell_type": "code",
   "execution_count": null,
   "id": "2723e156-53a4-4288-ace7-45a06fa4de50",
   "metadata": {},
   "outputs": [],
   "source": [
    "import numpy as np \n",
    "import csv \n",
    "with open(\"terrorismData.csv\" , 'r') as file:\n",
    "    data = csv.DictReader(file)\n",
    "\n",
    "    Casualty_total = {}\n",
    "    for row in data:\n",
    "        month = int(row['Month'])\n",
    "        year = int(row['Year'])\n",
    "        if row['Killed'] == '':\n",
    "            row['Killed'] = '0'\n",
    "        if row['Wounded'] == '':\n",
    "            row['Wounded'] = '0'\n",
    "        if month in (5,6,7) and year == 1999 and row['State'] == 'Jammu and Kashmir': \n",
    "           if row['Killed'] and row['Wounded']:\n",
    "            casuality = int(float(row['Killed'])) + int(float(row['Wounded']))\n",
    "            Casualty_total[row['City']] = casuality,row['Group']\n",
    "    \n",
    "city = max(Casualty_total, key=lambda k: Casualty_total[k][0])\n",
    "print(Casualty_total[city][0],city,Casualty_total[city][1]) "
   ]
  },
  {
   "cell_type": "markdown",
   "id": "773734b4-92f4-4e0c-9d6c-90701cd7951e",
   "metadata": {},
   "source": [
    "6. Terror Casualty Red:\n",
    " \n",
    "Find the casualty in the Red Corridor States ? Mainly Red corridor states include Jharkhand, Odisha, Andhra Pradesh, and Chhattisgarh. Note: Casualty=Killed +Wounded Print count of Casualty as integer value."
   ]
  },
  {
   "cell_type": "code",
   "execution_count": null,
   "id": "3eb7ced8-c6a0-4b18-bc9d-59ad9722dd3e",
   "metadata": {},
   "outputs": [],
   "source": [
    "import numpy as np \n",
    "import csv \n",
    "red_corridor_states = ['Jharkhand', 'Odisha', 'Andhra Pradesh', 'Chhattisgarh']\n",
    "total_casualty = 0\n",
    "with open(\"terrorismData.csv\" , 'r') as file:\n",
    "    data = csv.DictReader(file)\n",
    "    for row in data:\n",
    "        if row['Killed'] == '':\n",
    "            row['Killed'] = '0'\n",
    "        if row['Wounded'] == '':\n",
    "            row['Wounded'] = '0'\n",
    "        if row['State'] in red_corridor_states:\n",
    "            casualty = int(float(row['Killed'])) + int(float(row['Wounded']))\n",
    "            total_casualty += casualty\n",
    "\n",
    "print(int(total_casualty)) "
   ]
  },
  {
   "cell_type": "markdown",
   "id": "a43a8adc-b056-460d-9bc6-be0247dec472",
   "metadata": {},
   "source": [
    "7. Terror City Casualty:\n",
    " \n",
    "Find top 5 Indian Cities which has most number of casualties ? Print top 5 cities along with total casualties in that city. Print count of Casualty as integer value. Note: Ignoring the City which is Unknown. Casualty = Killed + Wounded."
   ]
  },
  {
   "cell_type": "code",
   "execution_count": null,
   "id": "034e961a-ad90-49c2-ac83-ef92db111c98",
   "metadata": {},
   "outputs": [],
   "source": [
    "import numpy as np \n",
    "import csv \n",
    "with open(\"terrorismData.csv\" , 'r') as file:\n",
    "    data = csv.DictReader(file)\n",
    "    city_casualty = {}\n",
    "    for row in data:\n",
    "        country = row['Country']\n",
    "        city = row['City']\n",
    "        if row['Killed'] == '':\n",
    "            row['Killed'] = '0'\n",
    "        if row['Wounded'] == '':\n",
    "            row['Wounded'] = '0'\n",
    "        casualty = int(float(row['Killed']) + float(row['Wounded']))\n",
    "\n",
    "        if country == 'India' and city != 'Unknown':\n",
    "            if city in city_casualty:\n",
    "                city_casualty[city] += casualty\n",
    "            else:\n",
    "                city_casualty[city] = casualty\n",
    "\n",
    "sorted_city = sorted(city_casualty.items() , key = lambda x: x[1], reverse = True)\n",
    "for i in range(min(5 , len(sorted_city))):\n",
    "    city , casualties = sorted_city[i]\n",
    "    print(f\"{city} {casualties}\") \n"
   ]
  },
  {
   "cell_type": "markdown",
   "id": "7f341aab-5753-4860-b6d3-c9d3a0b0d474",
   "metadata": {},
   "source": [
    "8. Terrorism Frequent Day:\n",
    " \n",
    "Find the most frequent day of attack in a terrorismDataset ? Note: Here np.unique can be used. Print count of frequent day and number of attack as Integer value."
   ]
  },
  {
   "cell_type": "code",
   "execution_count": null,
   "id": "bba45859-e504-4d4b-a379-eec15bf72bc3",
   "metadata": {},
   "outputs": [],
   "source": [
    "import numpy as np \n",
    "import csv \n",
    "days_of_attack = []\n",
    "with open(\"terrorismData.csv\" , 'r') as file:\n",
    "    data = csv.DictReader(file)\n",
    "    for row in data:\n",
    "        days_of_attack.append(int(row['Day']))\n",
    "\n",
    "days_of_attack = np.array(days_of_attack)\n",
    "\n",
    "unique_days , counts = np.unique(days_of_attack , return_counts = True)\n",
    "most_freq = np.argmax(counts)\n",
    "\n",
    "most_freq_day = unique_days[most_freq]\n",
    "no_of_attack = counts[most_freq]\n",
    "\n",
    "print(int(most_freq_day) , int(no_of_attack)) "
   ]
  },
  {
   "cell_type": "markdown",
   "id": "57c35c1b-f06d-44a1-a262-f194ba1fbf8d",
   "metadata": {},
   "source": [
    "9. Terror Attack City\n",
    " \n",
    "The Most Dangerous city in Jammu and Kashmir and the terrorist group which is most active in that city? Print count of number of attacks in that city as integer value. Note:Ignoring the Unknown Terrorist Group.Here Dangerous related with the number of terrorist attacks."
   ]
  },
  {
   "cell_type": "code",
   "execution_count": null,
   "id": "626cfc1b-2c8b-45d1-92ef-ff5b67d38b8d",
   "metadata": {},
   "outputs": [],
   "source": [
    "import pandas as pd\n",
    "df = pd.read_csv(\"terrorismData.csv\")\n",
    "\n",
    "j_k = df[df['State'] == 'Jammu and Kashmir']\n",
    "\n",
    "city_attack_count = j_k['City'].value_counts()\n",
    "\n",
    "most_danger_city = city_attack_count.idxmax()\n",
    "no_of_attack = city_attack_count.max()\n",
    "\n",
    "city_data = j_k[j_k['City'] == most_danger_city]\n",
    "group_count = city_data[city_data['Group'] != 'Unknown']['Group'].value_counts()\n",
    "\n",
    "most_active_group = group_count.idxmax()\n",
    "\n",
    "print(f\"{most_danger_city} {no_of_attack} {most_active_group}\")\n"
   ]
  },
  {
   "cell_type": "markdown",
   "id": "b64d7003-d88e-444e-bdf6-a8db477681d5",
   "metadata": {},
   "source": [
    "10. Terror Government\n",
    " \n",
    "There was formation of new government in India on 26 May 2014. So current government's span is from 26th May 2014 to current. Find out two things from this period-\n",
    "\n",
    "Explain 1.Total number of attacks done in this period in India. Find this count as integer. 2.Which Terrorist group was most active in this period in India. Most active means, group which has done maximum number of attacks. 3.Ignore the Unknown group."
   ]
  },
  {
   "cell_type": "code",
   "execution_count": null,
   "id": "639ac1fb-27e7-415a-80a3-10b0ca781efe",
   "metadata": {},
   "outputs": [],
   "source": [
    "import pandas as pd \n",
    "df = pd.read_csv(\"terrorismData.csv\")\n",
    "\n",
    "df = df[df['Country'] == 'India']\n",
    "df = df[df['Year'] >= 2014]\n",
    "\n",
    "index1 = df[(df['Year'] == 2014) & (df['Month']<5)].index\n",
    "index2 = df[(df['Year'] == 2014) & (df['Month'] == 5) & (df['Day']<26)].index\n",
    "df.drop(index1,inplace = True)\n",
    "df.drop(index2,inplace = True)\n",
    "total_attack = df.shape[0]\n",
    "group_count = df[df['Group'] != 'Unknown']['Group'].value_counts()\n",
    "most_active_group = group_count.idxmax()\n",
    "\n",
    "print(f\"{total_attack} {most_active_group}\")\n"
   ]
  },
  {
   "cell_type": "markdown",
   "id": "8d0649e0-47a7-477c-9f20-54486dc647f0",
   "metadata": {},
   "source": [
    "11. Terror Frequency\n",
    " \n",
    "Find the frequency of the Casualty in Red Corridor states and in Jammu and Kashmir ?Here Frequency is (Total Casualty/Total Number of a year) Print frequency as integer value. Note:Red Corridor state includes Jharkhand, Odisha, Andhra Pradesh, and Chhattisgarh. Here Casualty=Killed +Wounded.Don't fill the nan value present in Killed and Wounded feature."
   ]
  },
  {
   "cell_type": "code",
   "execution_count": null,
   "id": "5d77afd6-0cfd-4532-bd66-e6857793d3ca",
   "metadata": {},
   "outputs": [],
   "source": [
    "import pandas as pd\n",
    "import numpy as np\n",
    "df=pd.read_csv(\"terrorismData.csv\")\n",
    "year=len(set(df.Year))\n",
    "df = df[df.Country == 'India']\n",
    "df['Casualty']=df['Wounded']+df['Killed']\n",
    "jnk=df[df.State=='Jammu and Kashmir']\n",
    "rc = df[(df.State == 'Jharkhand') | (df.State == 'Odisha') | (df.State == 'Andhra Pradesh') | (df.State == 'Chhattisgarh')]\n",
    "a1=int(np.sum(jnk['Casualty']))\n",
    "a2=int(np.sum(rc['Casualty']))\n",
    "\n",
    "print(a2//year,a1//year)"
   ]
  },
  {
   "cell_type": "markdown",
   "id": "ac431202-6659-43b5-988d-ac20d52863ae",
   "metadata": {},
   "source": [
    "12. Terror Deadliest Attack\n",
    " \n",
    "Most Deadliest attack in a history of HumanKind? Print count of Killed people as integer value. Note: Here Deadliest attack means, in which the most number of people killed. Output Format : NumberOfPeopleKilled Country TerroristGroup"
   ]
  },
  {
   "cell_type": "code",
   "execution_count": null,
   "id": "15da7574-c726-456c-8ae1-3c3b6b730389",
   "metadata": {},
   "outputs": [],
   "source": [
    "import pandas as pd \n",
    "df = pd.read_csv(\"terrorismData.csv\")\n",
    "\n",
    "max_killed = df['Killed'].idxmax()\n",
    "\n",
    "num_killed = df.at[max_killed , 'Killed']\n",
    "country = df.at[max_killed , 'Country']\n",
    "group = df.at[max_killed , 'Group']\n",
    "\n",
    "print(int(num_killed) , country , group)"
   ]
  },
  {
   "cell_type": "markdown",
   "id": "edc64e08-0a9a-4c3a-9718-ef936ffd821d",
   "metadata": {},
   "source": [
    "13. Terror Attack\n",
    " \n",
    "Problem Statement : Find out the Country with Highest Number of Terror Attack and in which year the most number of terrorist attack happened in that country ? Print count of terror attacks as integer value."
   ]
  },
  {
   "cell_type": "code",
   "execution_count": null,
   "id": "43494b87-215b-4d25-8ac9-3f9409f3700e",
   "metadata": {},
   "outputs": [],
   "source": [
    "import pandas as pd\n",
    "df = pd.read_csv(\"terrorismData.csv\")\n",
    "\n",
    "attack_by_country = df['Country'].value_counts()\n",
    "highest_attack = attack_by_country.idxmax()\n",
    "\n",
    "most_attack_country = df[df['Country'] == highest_attack]\n",
    "\n",
    "year = most_attack_country['Year'].value_counts().idxmax()\n",
    "\n",
    "num = attack_by_country[highest_attack]\n",
    "\n",
    "print(highest_attack , int(num) , int(year))"
   ]
  }
 ],
 "metadata": {
  "kernelspec": {
   "display_name": "Python 3 (ipykernel)",
   "language": "python",
   "name": "python3"
  },
  "language_info": {
   "codemirror_mode": {
    "name": "ipython",
    "version": 3
   },
   "file_extension": ".py",
   "mimetype": "text/x-python",
   "name": "python",
   "nbconvert_exporter": "python",
   "pygments_lexer": "ipython3",
   "version": "3.11.7"
  }
 },
 "nbformat": 4,
 "nbformat_minor": 5
}
